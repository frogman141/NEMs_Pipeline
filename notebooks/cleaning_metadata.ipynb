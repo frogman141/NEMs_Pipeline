{
 "cells": [
  {
   "cell_type": "markdown",
   "metadata": {},
   "source": [
    "# Loading Feature Counts and Experiment Metadata\n",
    "\n",
    "According to Helen there's an issues with the shRNAs ESRRA-1 and m35 bam files. I am not entirely sure what the issue is but i as a safety precaution we are removing them from our downstream analysis. This means we need to remove these from our feature count matrix."
   ]
  },
  {
   "cell_type": "code",
   "execution_count": 22,
   "metadata": {},
   "outputs": [
    {
     "name": "stderr",
     "output_type": "stream",
     "text": [
      "Warning message in file(file, \"rt\"):\n",
      "“cannot open file '../NEMpipeline/data/E2V2_experiment_definitions.csv': No such file or directory”\n"
     ]
    },
    {
     "ename": "ERROR",
     "evalue": "Error in file(file, \"rt\"): cannot open the connection\n",
     "output_type": "error",
     "traceback": [
      "Error in file(file, \"rt\"): cannot open the connection\nTraceback:\n",
      "1. read.csv(\"../NEMpipeline/data/E2V2_experiment_definitions.csv\")",
      "2. read.table(file = file, header = header, sep = sep, quote = quote, \n .     dec = dec, fill = fill, comment.char = comment.char, ...)",
      "3. file(file, \"rt\")"
     ]
    }
   ],
   "source": [
    "require(org.Hs.eg.db, quietly = TRUE)\n",
    "\n",
    "fc = readRDS('../data/010_lfc/hisat2.E2V2.Rds')\n",
    "experiment_definitions = read.csv(\"../NEMpipeline/data/E2V2_experiment_definitions.csv\")"
   ]
  },
  {
   "cell_type": "markdown",
   "metadata": {},
   "source": [
    "## Cleaning Metadata\n",
    "\n",
    "Extracting all of the duplicate bam files from the experiment metadata and removing them from both the metadata and the count matrix generated from step 010_lfc. "
   ]
  },
  {
   "cell_type": "code",
   "execution_count": null,
   "metadata": {},
   "outputs": [],
   "source": [
    "# cleaning metadata\n",
    "clean_metadata = experiment_definitions[!experiment_definitions$shRNA %in% c('ESRRA-1', 'm35'), ]\n",
    "id = as.character(clean_metadata$Bam.File)  \n",
    "id = vapply(strsplit(id,\"/\"),\"[\",4, FUN.VALUE=character(1))\n",
    "id = vapply(strsplit(id,\"-\"),\"[\",2, FUN.VALUE=character(1))"
   ]
  },
  {
   "cell_type": "code",
   "execution_count": null,
   "metadata": {},
   "outputs": [],
   "source": [
    "# extracting bad_shRNAs bam files for shRNA ESSRA-1 and m35\n",
    "bad_shRNAs = experiment_definitions[experiment_definitions$shRNA %in% c('ESRRA-1', 'm35'), ]$Bam.File\n",
    "bad_shRNAs = gsub('/', '.', bad_shRNAs)\n",
    "bad_shRNAs = gsub('-', '.', bad_shRNAs)\n",
    "bad_shRNAs = paste0('X.mnt.scratcha.fmlab.cook01.E2V2.', bad_shRNAs)\n",
    "bad_shRNAs = c(\"bam\\\\.1\", bad_shRNAs)\n",
    "dedup = grep(paste(bad_shRNAs, collapse=\"|\"), colnames(fc$counts))"
   ]
  },
  {
   "cell_type": "code",
   "execution_count": null,
   "metadata": {},
   "outputs": [],
   "source": [
    "# clean the shRNAs\n",
    "clean_metadata$shRNA = gsub('-', '_', clean_metadata$shRNA)"
   ]
  },
  {
   "cell_type": "markdown",
   "metadata": {},
   "source": [
    "## Cleaning Count Matrix\n",
    "\n",
    "Since where here we might as well annotate and clean the count matrix. Here i am creating new column names for the matrix and filtering out genes that fail to read the minimium expression level."
   ]
  },
  {
   "cell_type": "code",
   "execution_count": null,
   "metadata": {},
   "outputs": [],
   "source": [
    "# creating a edgeR Count Matrix for downstream analysis\n",
    "x = edgeR::DGEList(counts=fc$counts[,-dedup], genes=fc$annotation[,c(\"GeneID\",\"Length\")])\n",
    "\n",
    "# checking all that i have the same number of ids as i do columns in my edgeR Counts Matrix\n",
    "names = grep(paste(id, collapse = \"|\"), colnames(x$counts), value = T)\n",
    "stopifnot(all.equal(names,colnames(x$counts)[1:439]))\n",
    "\n",
    "# extracting samples using the correct names\n",
    "x$counts = x$counts[,which(colnames(x$counts) %in% names)]\n",
    "x$samples = x$samples[which(rownames(x$samples) %in% names),]"
   ]
  },
  {
   "cell_type": "code",
   "execution_count": 23,
   "metadata": {},
   "outputs": [
    {
     "name": "stderr",
     "output_type": "stream",
     "text": [
      "Warning message in all.equal(as.integer(rownames(x$counts)), x$genes$GeneID):\n",
      "“NAs introduced by coercion”\n"
     ]
    },
    {
     "ename": "ERROR",
     "evalue": "Error: as.integer(rownames(x$counts)) and x$genes$GeneID are not equal:\n  'is.NA' value mismatch: 0 in current 17210 in target\n",
     "output_type": "error",
     "traceback": [
      "Error: as.integer(rownames(x$counts)) and x$genes$GeneID are not equal:\n  'is.NA' value mismatch: 0 in current 17210 in target\nTraceback:\n",
      "1. stopifnot(all.equal(as.integer(rownames(x$counts)), x$genes$GeneID))"
     ]
    }
   ],
   "source": [
    "# Look up the gene names in the UCSC hg38 annotation\n",
    "stopifnot(all.equal(as.integer(rownames(x$counts)),x$genes$GeneID))\n",
    "rownames(x$counts) = x$genes$GeneID\n",
    "rownames(x$counts) = annotate::lookUp(rownames(x$counts), 'org.Hs.eg', 'SYMBOL')"
   ]
  },
  {
   "cell_type": "code",
   "execution_count": 24,
   "metadata": {},
   "outputs": [],
   "source": [
    "# rename columns so they using the data more\n",
    "samples_all = paste(clean_metadata$Pool, clean_metadata$Barcode, \n",
    "                 clean_metadata$Cell.line, clean_metadata$Gene, \n",
    "                 clean_metadata$shRNA, clean_metadata$Biological.Rep)\n",
    "\n",
    "# don't overwrite samples from config\n",
    "colnames(x$counts) = samples_all"
   ]
  },
  {
   "cell_type": "code",
   "execution_count": 26,
   "metadata": {},
   "outputs": [],
   "source": [
    "expr.cutoff = 0.5\n",
    "\n",
    "# filter out genes that don't vary by more than expr.cutoff in more than 2 experiments\n",
    "keep = rowSums(edgeR::cpm(x) > expr.cutoff) >= 2\n",
    "x = x[keep, , keep.lib.sizes=FALSE]\n",
    "\n",
    "counts = x$counts"
   ]
  },
  {
   "cell_type": "markdown",
   "metadata": {},
   "source": [
    "## Saving Count Matrix and Metadata"
   ]
  },
  {
   "cell_type": "code",
   "execution_count": 29,
   "metadata": {},
   "outputs": [],
   "source": [
    "saveRDS(x, '../data/010_lfc/cleaned_feature_counts.Rds')\n",
    "write.csv(clean_metadata, '../data/metadata/clean_metadata.csv')"
   ]
  }
 ],
 "metadata": {
  "kernelspec": {
   "display_name": "R",
   "language": "R",
   "name": "ir"
  },
  "language_info": {
   "codemirror_mode": "r",
   "file_extension": ".r",
   "mimetype": "text/x-r-source",
   "name": "R",
   "pygments_lexer": "r",
   "version": "3.6.1"
  }
 },
 "nbformat": 4,
 "nbformat_minor": 4
}
