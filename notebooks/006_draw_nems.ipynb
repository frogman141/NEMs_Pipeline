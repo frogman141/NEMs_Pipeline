{
 "cells": [
  {
   "cell_type": "code",
   "execution_count": 1,
   "metadata": {},
   "outputs": [],
   "source": [
    "cell_line = 'MCF7'\n",
    "nem_method = \"triples\"\n",
    "nems_dir = \"../data/005_nems\"\n",
    "\n",
    "model_fp = file.path(nems_dir, paste(cell_line, nem_method, 'nem_models.Rds', sep=\"_\"))\n",
    "model = readRDS(model_fp)"
   ]
  },
  {
   "cell_type": "code",
   "execution_count": null,
   "metadata": {},
   "outputs": [],
   "source": [
    "draw_nets_max_nodes <- 20  # don't draw if networks are bigger than this\n",
    "draw_nets_max_count <- 10   # don't draw if there are more networks than this"
   ]
  },
  {
   "cell_type": "code",
   "execution_count": null,
   "metadata": {},
   "outputs": [],
   "source": [
    "step_070_plot"
   ]
  },
  {
   "cell_type": "code",
   "execution_count": null,
   "metadata": {},
   "outputs": [],
   "source": [
    "\n",
    "# functions\n",
    "trim_bootstrap <- function(graphs, bootstrap_threshold=bootstrap_threshold) {\n",
    "    lapply(graphs, \n",
    "        function(gr) {\n",
    "            values <- lapply(gr, function(x) { ifelse(x > bootstrap_threshold, 1, 0) })\n",
    "            trimmed <- matrix(values, nrow=nrow(gr), ncol=ncol(gr))\n",
    "            dimnames(trimmed) <- dimnames(gr)\n",
    "            return(trimmed)\n",
    "        }\n",
    "    )\n",
    "}\n",
    "\n",
    "\n",
    "# TODO tryCatch reading all files\n",
    "\n",
    "\n",
    "\n",
    "step_070_plot <- function(prep_method, project, nems_dir, plots_dir, draw_nets_max_nodes, draw_nets_max_count) {\n",
    "    draw_networks <- TRUE\n",
    "    # compare all the data (at first)\n",
    "    compare <- list()\n",
    "    names_list <- list()\n",
    "    idx <- 1\n",
    "    matching <- dir(nems_dir, pattern=prep_method)\n",
    "    # filter for project name\n",
    "    matching <- Filter(function(x) grepl(paste(\"\\\\.\", project, \"\\\\.\", sep=\"\"), x), matching)\n",
    "                       \n",
    "    for (input_file_name in matching) {\n",
    "        in_file <- file.path(nems_dir, input_file_name)\n",
    "        if (file_test(\"-f\", in_file)) {\n",
    "            this_nem_method <- strsplit(input_file_name, \"[.]\")[[1]][1] # first element\n",
    "            names_list[[idx]] <- input_file_name\n",
    "            message(\"idx \", idx, \" model \", input_file_name)\n",
    "            tryCatch({\n",
    "                nem_model <- readRDS(in_file)\n",
    "                compare[[idx]] <- nem_model\n",
    "                idx <- idx+1\n",
    "            }, warning = function(w) {\n",
    "              message(w)\n",
    "            }, error = function(e) {\n",
    "              message(e)\n",
    "            })\n",
    "        }\n",
    "    }\n",
    "\n",
    "    graphs <- lapply(compare, function(x) {as(x$graph, \"matrix\")})\n",
    "    names(graphs) <- names_list\n",
    "\n",
    "    # compare bootstrap values in steps of 10%\n",
    "    for (bootstrap_threshold in rev(seq(0.0,0.9,0.1))) {\n",
    "        # bootstrap values less than the bootstrap_threshold -> 0, above -> 1\n",
    "        trimmed_graphs <- trim_bootstrap(graphs, bootstrap_threshold=bootstrap_threshold)\n",
    "        # should we display the networks?\n",
    "        if (nrow(graphs[[1]]) > draw_nets_max_nodes || length(graphs) > draw_nets_max_count) {\n",
    "            draw_networks <- FALSE\n",
    "        }\n",
    "        # TODO name this better\n",
    "        if (requireNamespace(\"labnetmet\")) {\n",
    "            output_pdf <- file.path(plots_dir, paste(paste(\"bootstrapgraphs_\", prep_method, \"_\", bootstrap_threshold*100, sep=\"\"), project, \"pdf\", sep=\".\"))\n",
    "            labnetmet::plot_dist(trimmed_graphs, labnetmet::trans_dist, output_pdf, draw_networks=draw_networks)\n",
    "        } else {\n",
    "            print(\"To print the graphs\")\n",
    "            print(\"devtools::install_github('bitmask/labnetmet')\")\n",
    "        }\n",
    "    }\n",
    "}\n"
   ]
  }
 ],
 "metadata": {
  "kernelspec": {
   "display_name": "R",
   "language": "R",
   "name": "ir"
  },
  "language_info": {
   "codemirror_mode": "r",
   "file_extension": ".r",
   "mimetype": "text/x-r-source",
   "name": "R",
   "pygments_lexer": "r",
   "version": "3.6.1"
  }
 },
 "nbformat": 4,
 "nbformat_minor": 4
}
